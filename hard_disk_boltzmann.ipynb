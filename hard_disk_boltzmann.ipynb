{
  "nbformat": 4,
  "nbformat_minor": 0,
  "metadata": {
    "kernelspec": {
      "display_name": "Python 3",
      "language": "python",
      "name": "python3"
    },
    "language_info": {
      "codemirror_mode": {
        "name": "ipython",
        "version": 3
      },
      "file_extension": ".py",
      "mimetype": "text/x-python",
      "name": "python",
      "nbconvert_exporter": "python",
      "pygments_lexer": "ipython3",
      "version": "3.7.7"
    },
    "colab": {
      "name": "hard_disk_boltzmann.ipynb",
      "provenance": [],
      "collapsed_sections": [],
      "include_colab_link": true
    },
    "accelerator": "GPU"
  },
  "cells": [
    {
      "cell_type": "markdown",
      "metadata": {
        "id": "view-in-github",
        "colab_type": "text"
      },
      "source": [
        "<a href=\"https://colab.research.google.com/github/jglaser/hoomd_boltzmann/blob/master/hard_disk_boltzmann.ipynb\" target=\"_parent\"><img src=\"https://colab.research.google.com/assets/colab-badge.svg\" alt=\"Open In Colab\"/></a>"
      ]
    },
    {
      "cell_type": "code",
      "metadata": {
        "colab": {
          "base_uri": "https://localhost:8080/"
        },
        "id": "Nu_oI2Zg1zmY",
        "outputId": "037df19b-4b59-4d6d-c1c5-f1894950c277"
      },
      "source": [
        "! pip install git+https://github.com/jglaser/paper_boltzmann_generators.git@tf2#subdirectory=software"
      ],
      "execution_count": 1,
      "outputs": [
        {
          "output_type": "stream",
          "text": [
            "Collecting git+https://github.com/jglaser/paper_boltzmann_generators.git@tf2#subdirectory=software\n",
            "  Cloning https://github.com/jglaser/paper_boltzmann_generators.git (to revision tf2) to /tmp/pip-req-build-voilan_c\n",
            "  Running command git clone -q https://github.com/jglaser/paper_boltzmann_generators.git /tmp/pip-req-build-voilan_c\n",
            "  Running command git checkout -b tf2 --track origin/tf2\n",
            "  Switched to a new branch 'tf2'\n",
            "  Branch 'tf2' set up to track remote branch 'tf2' from 'origin'.\n",
            "Requirement already satisfied (use --upgrade to upgrade): deep-boltzmann==0.1 from git+https://github.com/jglaser/paper_boltzmann_generators.git@tf2#subdirectory=software in /usr/local/lib/python3.7/dist-packages\n",
            "Building wheels for collected packages: deep-boltzmann\n",
            "  Building wheel for deep-boltzmann (setup.py) ... \u001b[?25l\u001b[?25hdone\n",
            "  Created wheel for deep-boltzmann: filename=deep_boltzmann-0.1-cp37-none-any.whl size=40082 sha256=13ae33123c1f841e0a89a7172841e75179a359838c5ba5b5d7f106e3afbdc94c\n",
            "  Stored in directory: /tmp/pip-ephem-wheel-cache-3yf_002h/wheels/42/9f/f7/e2dcd8deb7caf454aae09d183c79d4112768020758493c87de\n",
            "Successfully built deep-boltzmann\n"
          ],
          "name": "stdout"
        }
      ]
    },
    {
      "cell_type": "code",
      "metadata": {
        "id": "xQKMIdR12Req"
      },
      "source": [
        "import deep_boltzmann"
      ],
      "execution_count": 2,
      "outputs": []
    },
    {
      "cell_type": "code",
      "metadata": {
        "id": "nRzlGZc61y7j"
      },
      "source": [
        "import matplotlib.pyplot as plt\n",
        "def plot_config(pts,L=1):\n",
        "    fig, ax = plt.subplots()\n",
        "    fig.set_size_inches(5,5)\n",
        "    circles = [plt.Circle(p,.5) for p in pts]\n",
        "    for c in circles:\n",
        "        ax.add_patch(c)\n",
        "    ax.set_xlim(-L/2,L/2)\n",
        "    ax.set_ylim(-L/2,L/2)"
      ],
      "execution_count": 3,
      "outputs": []
    },
    {
      "cell_type": "markdown",
      "metadata": {
        "id": "kbVGrOnD1y7k"
      },
      "source": [
        "### Invertible network for hard particles"
      ]
    },
    {
      "cell_type": "code",
      "metadata": {
        "id": "TvGSIy2l1y7k"
      },
      "source": [
        "# Maximum likelihood in z\n",
        "import tensorflow as tf\n",
        "def loss_z(inv_net):\n",
        "    return -inv_net.log_likelihood_z_normal()"
      ],
      "execution_count": 4,
      "outputs": []
    },
    {
      "cell_type": "code",
      "metadata": {
        "id": "_odTAVNm1y7k"
      },
      "source": [
        "import tensorflow as tf\n",
        "def loss_x(inv_net):\n",
        "    x = inv_net.output_x\n",
        "    f = inv_net.overlap_model.smooth_overlap_tf(x)\n",
        "    #return tf.where(f>tf.zeros_like(f),tf.math.log(f)-inv_net.log_det_Jzx[:,0],0.0)\n",
        "    #return f*tf.math.exp(-inv_net.log_det_Jzx[:,0])\n",
        "    return f-inv_net.log_det_Jzx[:,0]\n",
        "    "
      ],
      "execution_count": 656,
      "outputs": []
    },
    {
      "cell_type": "code",
      "metadata": {
        "id": "XlDPpfuF1y7l"
      },
      "source": [
        "\n",
        "import tensorflow.keras as keras\n",
        "import tensorflow as tf\n",
        "from deep_boltzmann.networks.invertible import InvNet\n",
        "\n",
        "class OverlapInvNet(InvNet):\n",
        "\n",
        "    def __init__(self, overlap_model, layers):\n",
        "        \"\"\" Invertible net where we have an overlap function (==0 or 1) that defines p(x)\n",
        "            and the prior is the uniform on the interval [a,b)\"\"\"\n",
        "        self.overlap_model = overlap_model\n",
        "        super().__init__(overlap_model.dim, layers, prior='normal')\n",
        "        \n",
        "        self.Tzx.add_loss(loss_x(self))\n",
        "        self.Txz.add_loss(loss_z(self))\n",
        "        \n",
        "    @classmethod\n",
        "    def load(cls, filename, energy_model):\n",
        "        \"\"\" Loads parameters into model. Careful: this clears the whole TF session!!\n",
        "        \"\"\"\n",
        "        from deep_boltzmann.util import load_obj\n",
        "        keras.backend.clear_session()\n",
        "        D = load_obj(filename)\n",
        "        layerdicts = D['layers']\n",
        "        layers = [eval(d['type']).from_dict(d) for d in layerdicts]\n",
        "        return EnergyInvNet(energy_model, layers, prior=prior)\n",
        "\n",
        "    def weight(self):\n",
        "        \"\"\" Computes the reweighting factor\n",
        "        \"\"\"\n",
        "        z = self.input_z\n",
        "        x = self.output_x\n",
        "        # compute overlap property\n",
        "        f = self.overlap_model.overlap_tf(x)\n",
        "        weight = tf.math.exp(self.log_det_Jzx[:, 0])\n",
        "        return weight\n",
        "\n",
        "    def sample(self, nsample=100000):\n",
        "        \"\"\" Samples from prior distribution in z and produces generated x configurations\n",
        "\n",
        "        Parameters:\n",
        "        -----------\n",
        "        temperature : float\n",
        "            Relative temperature. Equal to the variance of the isotropic Gaussian sampled in z-space.\n",
        "        nsample : int\n",
        "            Number of samples\n",
        "\n",
        "        Returns:\n",
        "        --------\n",
        "        sample_z : array\n",
        "            Samples in z-space\n",
        "        sample_x : array\n",
        "            Samples in x-space\n",
        "        weight_z:\n",
        "            Weight of z samples\n",
        "        overlap_x : array\n",
        "            Overlap property of x samples\n",
        "        w : array\n",
        "            Weight of samples\n",
        "\n",
        "        \"\"\"\n",
        "        sample_z, energy_z = self.sample_z(nsample=nsample, return_energy=True)\n",
        "        sample_x, Jzx = self.transform_zxJ(sample_z)\n",
        "        overlap_x = self.overlap_model.overlap(sample_x)\n",
        "        w = np.exp(Jzx)\n",
        "\n",
        "        return sample_z, sample_x, np.exp(-energy_z), overlap_x, w\n",
        "\n",
        "    \n",
        "    def train_z(self, x, xval=None, optimizer=None, lr=0.001, epochs=2000, batch_size=1024, verbose=1, clipnorm=None):\n",
        "        if optimizer is None:\n",
        "            if clipnorm is None:\n",
        "                optimizer = keras.optimizers.Adam(lr=lr)\n",
        "            else:\n",
        "                optimizer = keras.optimizers.Adam(lr=lr, clipnorm=clipnorm)\n",
        "                \n",
        "        self.Txz.compile(optimizer)\n",
        "\n",
        "        if xval is not None:\n",
        "            validation_data = (xval, np.zeros_like(xval))\n",
        "        else:\n",
        "            validation_data = None\n",
        "\n",
        "        hist = self.Txz.fit(x=x, validation_data=validation_data,\n",
        "                            batch_size=batch_size, epochs=epochs, verbose=verbose, shuffle=True)\n",
        "\n",
        "        return hist\n",
        "    \n",
        "    def train_x(self, optimizer=None, lr=0.001, batches=1,epochs=2000, batch_size=1024, verbose=1, clipnorm=None):\n",
        "        if optimizer is None:\n",
        "            if clipnorm is None:\n",
        "                optimizer = keras.optimizers.Adam(lr=lr)\n",
        "            else:\n",
        "                optimizer = keras.optimizers.Adam(lr=lr, clipnorm=clipnorm)\n",
        "                \n",
        "        self.Tzx.compile(optimizer)\n",
        "\n",
        "        x = self.sample_z(nsample=batches*batch_size, return_energy=False)\n",
        "        hist = self.Tzx.fit(x=x,batch_size=batch_size, epochs=epochs, verbose=verbose, shuffle=True)\n",
        "\n",
        "        return hist\n",
        "\n",
        "    def train_both(self, x, xval=None, optimizer=None, lr=0.001, epochs=2000, batch_size=1024, verbose=1, clipnorm=None):\n",
        "        if optimizer is None:\n",
        "            if clipnorm is None:\n",
        "                optimizer = keras.optimizers.Adam(lr=lr)\n",
        "            else:\n",
        "                optimizer = keras.optimizers.Adam(lr=lr, clipnorm=clipnorm)\n",
        "       \n",
        "        inputs = []\n",
        "        outputs = []\n",
        "        losses = []\n",
        "        losses.append(loss_z(self))\n",
        "        losses.append(loss_x(self))\n",
        "        inputs.append(self.input_x)\n",
        "        inputs.append(self.input_z)\n",
        "        outputs.append(self.output_z)\n",
        "        outputs.append(self.output_x)\n",
        "\n",
        "        self.model = keras.models.Model(inputs=inputs, outputs=outputs)\n",
        "        l = losses[0]+losses[1]\n",
        "        self.model.add_loss(l)\n",
        "        self.model.compile(optimizer=optimizer)\n",
        "        \n",
        "        if xval is not None:\n",
        "            validation_data = (xval, np.zeros_like(xval))\n",
        "        else:\n",
        "            validation_data = None\n",
        "\n",
        "        w = self.sample_z(nsample=x.shape[0], return_energy=False)\n",
        "        hist = self.model.fit(x=[x,w], validation_data=validation_data,\n",
        "                            batch_size=batch_size, epochs=epochs, verbose=verbose, shuffle=True)\n",
        "\n",
        "        return hist"
      ],
      "execution_count": 657,
      "outputs": []
    },
    {
      "cell_type": "code",
      "metadata": {
        "id": "0AW0sLQq1y7o"
      },
      "source": [
        "class Limit(object):\n",
        "    def __init__(self, dim, L=1):\n",
        "        self.L = L\n",
        "        self.dim = dim\n",
        "    \n",
        "        self.tanh = tf.keras.layers.Activation('tanh')\n",
        "        self.scale = tf.keras.layers.experimental.preprocessing.Rescaling(scale=self.L/2)\n",
        "        self.inv_scale = tf.keras.layers.experimental.preprocessing.Rescaling(scale=2/self.L)\n",
        "        self.atanh = tf.keras.layers.Activation(lambda x: tf.atanh(x))\n",
        "        \n",
        "    def connect_xz(self, x):\n",
        "        def lambda_Jxz(x):\n",
        "            J = -tf.math.log(1-(2*x/self.L)**2)\n",
        "            return tf.reduce_sum(J,axis=-1)[0] * tf.ones((tf.shape(x)[0], 1))\n",
        "        self.log_det_xz = keras.layers.Lambda(lambda_Jxz)(x)\n",
        "        z = self.atanh(self.inv_scale(x))\n",
        "        return z\n",
        "\n",
        "    def connect_zx(self, z):\n",
        "        def lambda_Jzx(z):\n",
        "            J = -tf.math.log(tf.cosh(z)**2)\n",
        "            return tf.reduce_sum(J,axis=-1)[0] * tf.ones((tf.shape(z)[0], 1))\n",
        "        self.log_det_zx = keras.layers.Lambda(lambda_Jzx)(z)\n",
        "        x = self.scale(self.tanh(z))\n",
        "        return x\n",
        "\n",
        "    @property\n",
        "    def log_det_Jxz(self):\n",
        "        \"\"\" Log of |det(dz/dx)| for the current batch. Format is batchsize x 1 or a number \"\"\"\n",
        "        return self.log_det_xz\n",
        "\n",
        "    @property\n",
        "    def log_det_Jzx(self):\n",
        "        \"\"\" Log of |det(dx/dz)| for the current batch. Format is batchsize x 1 or a number \"\"\"\n",
        "        return self.log_det_zx\n"
      ],
      "execution_count": 658,
      "outputs": []
    },
    {
      "cell_type": "code",
      "metadata": {
        "id": "cRZyC5p81y7r"
      },
      "source": [
        "from deep_boltzmann.networks.invertible import split_merge_indices, SplitChannels, MergeChannels, \\\n",
        "                                               RealNVP, NICER, InvNet, nonlinear_transform, Scaling\n",
        "\n",
        "def invnet(dim, layer_types, overlap_model=None, channels=None, L=1.0,\n",
        "           nl_layers=2, nl_hidden=100, nl_activation='relu',\n",
        "           nl_activation_t='relu',scale=None, prior='normal'):\n",
        "    \"\"\"\n",
        "    layer_types : str\n",
        "        String describing the sequence of layers. Usage:\n",
        "            N NICER layer\n",
        "            R RealNVP layerl\n",
        "            S Scaling layer\n",
        "        Splitting and merging layers will be added automatically\n",
        "    overlap_model : Overlap model class\n",
        "        Class with overlap_tf() and dim\n",
        "    channels : array or None\n",
        "        Assignment of dimensions to channels (0/1 array of length ndim)\n",
        "    nl_layers : int\n",
        "        Number of hidden layers in the nonlinear transformations\n",
        "    nl_hidden : int\n",
        "        Number of hidden units in each nonlinear layer\n",
        "    nl_activation : str\n",
        "        Activation functions used in the nonlinear layers\n",
        "    scale : None or float\n",
        "        If a scaling layer is used, fix the scale to this number. If None, scaling layers are trainable\n",
        "    \"\"\"\n",
        "    # fix channels\n",
        "    channels, indices_split, indices_merge = split_merge_indices(dim, nchannels=2, channels=channels)\n",
        "\n",
        "    # augment layer types with split and merge layers\n",
        "    split = False\n",
        "    tmp = ''\n",
        "    for ltype in layer_types:\n",
        "        if (ltype == 'S' or ltype == 'L') and split:\n",
        "            tmp += '>'\n",
        "            split = False\n",
        "        if (ltype == 'N' or ltype == 'R') and not split:\n",
        "            tmp += '<'\n",
        "            split = True\n",
        "        tmp += ltype\n",
        "    if split:\n",
        "        tmp += '>'\n",
        "    layer_types = tmp\n",
        "    print(layer_types)\n",
        "\n",
        "    # prepare layers\n",
        "    layers = []\n",
        "\n",
        "    #reg = tf.keras.regularizers.l2(.1) #?\n",
        "    reg = None\n",
        "    for ltype in layer_types:\n",
        "        if ltype == '<':\n",
        "            # split into two x channels\n",
        "            layers.append(SplitChannels(dim, nchannels=2, channels=channels))\n",
        "        if ltype == '>':\n",
        "            # merge into one z channel\n",
        "            layers.append(MergeChannels(dim, nchannels=2, channels=channels))\n",
        "        if ltype == 'N':\n",
        "            M1 = nonlinear_transform(indices_split[1].size, nlayers=nl_layers, nhidden=nl_hidden,\n",
        "                                     activation=nl_activation)\n",
        "            M2 = nonlinear_transform(indices_split[0].size, nlayers=nl_layers, nhidden=nl_hidden,\n",
        "                                     activation=nl_activation)\n",
        "            layers.append(NICER([M1, M2]))\n",
        "        elif ltype == 'R':\n",
        "            S1 = nonlinear_transform(indices_split[1].size, nlayers=nl_layers, nhidden=nl_hidden,\n",
        "                                     activation=nl_activation, init_outputs=0,\n",
        "                                     activity_regularizer=reg)\n",
        "            T1 = nonlinear_transform(indices_split[1].size, nlayers=nl_layers, nhidden=nl_hidden,\n",
        "                                     activation=nl_activation_t)\n",
        "            S2 = nonlinear_transform(indices_split[0].size, nlayers=nl_layers, nhidden=nl_hidden,\n",
        "                                     activation=nl_activation, init_outputs=0,\n",
        "                                     activity_regularizer=reg)\n",
        "            T2 = nonlinear_transform(indices_split[0].size, nlayers=nl_layers, nhidden=nl_hidden,\n",
        "                                     activation=nl_activation_t)\n",
        "            layers.append(RealNVP([S1, T1, S2, T2]))\n",
        "        elif ltype == 'L':\n",
        "            layers.append(Limit(dim, L=L))\n",
        "        elif ltype == 'S':\n",
        "            # scaling layer\n",
        "            if scale is None:\n",
        "                scaling_factors = None\n",
        "            else:\n",
        "                scaling_factors = scale * np.ones((1, dim))\n",
        "            layers.append(Scaling(dim, scaling_factors=scaling_factors, trainable=(scale is None)))\n",
        "\n",
        "    if overlap_model is None:\n",
        "        inv_net = InvNet(dim, layers, prior='normal')\n",
        "    else:\n",
        "        inv_net = OverlapInvNet(overlap_model, layers)\n",
        "    \n",
        "    inv_net.reg = reg\n",
        "    return inv_net"
      ],
      "execution_count": 659,
      "outputs": []
    },
    {
      "cell_type": "markdown",
      "metadata": {
        "id": "rbBPrDq01y7u"
      },
      "source": [
        "### Hard disk overlap"
      ]
    },
    {
      "cell_type": "code",
      "metadata": {
        "id": "bb0_stt11y7w"
      },
      "source": [
        "import numpy as np\n",
        "\n",
        "def ensure_traj(X):\n",
        "    if np.ndim(X) == 2:\n",
        "        return X\n",
        "    if np.ndim(X) == 1:\n",
        "        return np.array([X])\n",
        "    raise ValueError('Incompatible array with shape: ', np.shape(X))\n",
        "\n",
        "    \n",
        "def dist2_min_image(crd1, crd2, L, dim=2):\n",
        "    \"\"\" Returns the distance matrix or matrices between particles, with periodic boundary conditions\n",
        "\n",
        "    Parameters\n",
        "    ----------\n",
        "    crd1 : array or matrix\n",
        "        first coordinate set\n",
        "    crd2 : array or matrix\n",
        "        second coordinate set\n",
        "    L: length of simulation box\n",
        "    dim : int\n",
        "        dimension of particle system. If d=2, coordinate vectors are [x1, y1, x2, y2, ...]\n",
        "\n",
        "    \"\"\"\n",
        "    crd1 = ensure_traj(crd1)\n",
        "    crd2 = ensure_traj(crd2)\n",
        "    n = int(np.shape(crd1)[1]/dim)\n",
        "\n",
        "    crd1_components = [np.tile(np.expand_dims(crd1[:, i::dim], 2), (1, 1, n)) for i in range(dim)]\n",
        "    crd2_components = [np.tile(np.expand_dims(crd2[:, i::dim], 2), (1, 1, n)) for i in range(dim)]\n",
        "    \n",
        "    dr_components = np.array([(crd1_components[i] - np.transpose(crd2_components[i], axes=(0, 2, 1))) for i in range(dim)])\n",
        "    \n",
        "    # minimum image\n",
        "    D2_components = dr_components - L*((dr_components+0.5*L)//L)\n",
        "    D2_components = D2_components**2\n",
        "    D2 = np.sum(D2_components, axis=0)\n",
        "    return D2\n",
        "\n",
        "class HardDisks(object):\n",
        "    def __init__(self,N, L,sigma,eps=1):\n",
        "        \"\"\" N: number of particles\n",
        "            L: Box length\n",
        "            sigma: Particle size\"\"\"\n",
        "        self.N = N\n",
        "        self.dim = 2*self.N # dim = 2\n",
        "        self.L = L\n",
        "        self.sigma = sigma\n",
        "        self.mask_matrix = np.ones((self.N, self.N), dtype=np.float32)\n",
        "        for i in range(self.N):\n",
        "            self.mask_matrix[i, i] = 0.0\n",
        "        self.eps=eps\n",
        "\n",
        "    def wrap(self, x):\n",
        "        xcomp = x[:, 0::2]\n",
        "        ycomp = x[:, 1::2]        \n",
        "        xcomp -= ((xcomp+0.5*self.L)//self.L)*self.L\n",
        "        ycomp -= ((ycomp+0.5*self.L)//self.L)*self.L\n",
        "        out = np.zeros(shape=x.shape)\n",
        "        out[:,0::2] = xcomp\n",
        "        out[:,1::2] = ycomp\n",
        "        return out\n",
        "    \n",
        "    def overlap(self, x):\n",
        "        # all pairwise distances\n",
        "        batchsize = np.shape(x)[0]\n",
        "        D2 = dist2_min_image(x, x, self.L)\n",
        "        mmatrix = np.tile(np.expand_dims(self.mask_matrix, 0), (batchsize, 1, 1))\n",
        "        \n",
        "        # overlap\n",
        "        f = np.max(mmatrix*np.where(D2<self.sigma*self.sigma,1.0,0.0), axis=(1, 2))\n",
        "        return f\n",
        "    \n",
        "\n",
        "    @tf.custom_gradient\n",
        "    def tf_min_image(self,Dx):\n",
        "        res = Dx-tf.math.floordiv(Dx+0.5*self.L,self.L)*self.L\n",
        "        return res, lambda upstream: upstream\n",
        "\n",
        "    def overlap_tf(self, x):\n",
        "\n",
        "        xcomp = x[:, 0::2]\n",
        "        ycomp = x[:, 1::2]\n",
        "        batchsize = tf.shape(x)[0]\n",
        "        n = tf.shape(xcomp)[1]\n",
        "        Xcomp = tf.tile(tf.expand_dims(xcomp, 2), [1, 1, n])\n",
        "        Ycomp = tf.tile(tf.expand_dims(ycomp, 2), [1, 1, n])\n",
        "        Dx = Xcomp - tf.transpose(Xcomp, perm=[0, 2, 1])\n",
        "        Dy = Ycomp - tf.transpose(Ycomp, perm=[0, 2, 1])\n",
        "\n",
        "        # minimum image\n",
        "        layer_min_image = tf.keras.layers.Lambda(lambda x: self.tf_min_image(x))\n",
        "        Dx = layer_min_image(Dx) \n",
        "        Dy = layer_min_image(Dy) \n",
        "        D2 = Dx**2 + Dy**2\n",
        "\n",
        "        mmatrix = tf.tile(tf.expand_dims(self.mask_matrix, 0), [batchsize, 1, 1])\n",
        "\n",
        "        return tf.reduce_max(tf.where((D2<self.sigma*self.sigma),\n",
        "                                      mmatrix*tf.ones_like(D2),tf.zeros_like(D2)),\n",
        "                             axis=(1, 2))\n",
        "    \n",
        "    def smooth_overlap_tf(self, x):\n",
        "\n",
        "        xcomp = x[:, 0::2]\n",
        "        ycomp = x[:, 1::2]\n",
        "        batchsize = tf.shape(x)[0]\n",
        "        n = tf.shape(xcomp)[1]\n",
        "        Xcomp = tf.tile(tf.expand_dims(xcomp, 2), [1, 1, n])\n",
        "        Ycomp = tf.tile(tf.expand_dims(ycomp, 2), [1, 1, n])\n",
        "\n",
        "        mmatrix = tf.tile(tf.expand_dims(self.mask_matrix, 0), [batchsize, 1, 1])\n",
        "\n",
        "        # minimum image\n",
        "        layer_min_image = tf.keras.layers.Lambda(lambda x: self.tf_min_image(x))\n",
        "        Dx = Xcomp - tf.transpose(Xcomp, perm=[0, 2, 1])\n",
        "        Dy = Ycomp - tf.transpose(Ycomp, perm=[0, 2, 1])\n",
        "        Dx = layer_min_image(Dx) \n",
        "        Dy = layer_min_image(Dy) \n",
        "        D2 = Dx**2 + Dy**2\n",
        "\n",
        "        mmatrix = tf.tile(tf.expand_dims(self.mask_matrix, 0), [batchsize, 1, 1])\n",
        "        return tf.reduce_sum(self.eps*tf.nn.relu(mmatrix*(self.sigma-tf.math.sqrt(D2))), axis=(1, 2))\n",
        "\n",
        "        # res = None\n",
        "        # for i in range(-1,2):\n",
        "        #     for j in range(-1,2):\n",
        "\n",
        "        #       Dx = Xcomp - tf.transpose(Xcomp+i*self.L, perm=[0, 2, 1])\n",
        "        #       Dy = Ycomp - tf.transpose(Ycomp+j*self.L, perm=[0, 2, 1])\n",
        "        #       D2 = Dx**2 + Dy**2\n",
        "\n",
        "        #       o = tf.reduce_sum(self.eps*tf.nn.relu(mmatrix*(self.sigma-tf.math.sqrt(D2))), axis=(1, 2))\n",
        "        #       if res == None:\n",
        "        #           res = o\n",
        "        #       else:\n",
        "        #           res += o\n",
        "        # return res"
      ],
      "execution_count": 660,
      "outputs": []
    },
    {
      "cell_type": "markdown",
      "metadata": {
        "id": "zSFiOGQw1y7x"
      },
      "source": [
        "### Create the model"
      ]
    },
    {
      "cell_type": "code",
      "metadata": {
        "id": "Ifo5Gh971y7x"
      },
      "source": [
        "phi = 0.6 # packing fraction\n",
        "N = 64\n",
        "sigma = 1\n",
        "L = (N*(np.pi*0.25*sigma**2)/phi)**0.5"
      ],
      "execution_count": 661,
      "outputs": []
    },
    {
      "cell_type": "code",
      "metadata": {
        "id": "i-6Exh8K1y7x"
      },
      "source": [
        "model = HardDisks(N=N,\n",
        "                  L=L,\n",
        "                  sigma=sigma,\n",
        "                  eps=100)"
      ],
      "execution_count": 725,
      "outputs": []
    },
    {
      "cell_type": "code",
      "metadata": {
        "id": "JwyQkzvc1y7z"
      },
      "source": [
        "batchsize = 4096"
      ],
      "execution_count": 726,
      "outputs": []
    },
    {
      "cell_type": "markdown",
      "metadata": {
        "id": "mjGn8WqO1y7z"
      },
      "source": [
        "### Train with the linear combination of two loss functions"
      ]
    },
    {
      "cell_type": "code",
      "metadata": {
        "id": "R2uMpnBn1y7z"
      },
      "source": [
        "def act(x):\n",
        "    return -tf.keras.layers.ReLU()(x)\n",
        "    #return -tf.math.sigmoid(x)"
      ],
      "execution_count": 727,
      "outputs": []
    },
    {
      "cell_type": "code",
      "metadata": {
        "colab": {
          "base_uri": "https://localhost:8080/"
        },
        "id": "jSvBGa1R1y70",
        "outputId": "f8953b13-24df-457c-c131-2a443b234912"
      },
      "source": [
        "# reset model\n",
        "#bg = invnet(model.dim, 'RRRRRRRR', overlap_model=model, nl_layers=4, nl_hidden=200, #100\n",
        "bg = invnet(model.dim, 'LRRRRRRRRRRRR', overlap_model=model, nl_layers=4, nl_hidden=200, #100\n",
        "#bg = invnet(model.dim, 'LNNNNNNNN', overlap_model=model, nl_layers=4, nl_hidden=200, #100\n",
        "           nl_activation=act, nl_activation_t='relu',L=L)"
      ],
      "execution_count": 728,
      "outputs": [
        {
          "output_type": "stream",
          "text": [
            "L<RRRRRRRRRRRR>\n"
          ],
          "name": "stdout"
        }
      ]
    },
    {
      "cell_type": "code",
      "metadata": {
        "id": "y3iowEtO1y70"
      },
      "source": [
        "#hist_bg = bg.train_z(x=Xtrain,epochs=3,lr=0.0001,batch_size=batchsize)"
      ],
      "execution_count": 729,
      "outputs": []
    },
    {
      "cell_type": "code",
      "metadata": {
        "scrolled": true,
        "colab": {
          "base_uri": "https://localhost:8080/"
        },
        "id": "DvxM9aUo1y70",
        "outputId": "3fb12564-8dcf-4763-cecb-27906184ba41"
      },
      "source": [
        "hist_bg = bg.train_x(batches=250,epochs=10,lr=0.001,batch_size=batchsize)"
      ],
      "execution_count": 730,
      "outputs": [
        {
          "output_type": "stream",
          "text": [
            "Epoch 1/10\n",
            "250/250 [==============================] - 32s 101ms/step - loss: 1996.7985\n",
            "Epoch 2/10\n",
            "250/250 [==============================] - 25s 102ms/step - loss: 566.8683\n",
            "Epoch 3/10\n",
            "250/250 [==============================] - 25s 101ms/step - loss: 570.7675\n",
            "Epoch 4/10\n",
            "250/250 [==============================] - 25s 100ms/step - loss: 614.7923\n",
            "Epoch 5/10\n",
            "250/250 [==============================] - 25s 101ms/step - loss: 559.6366\n",
            "Epoch 6/10\n",
            "250/250 [==============================] - 25s 101ms/step - loss: 553.4707\n",
            "Epoch 7/10\n",
            "250/250 [==============================] - 25s 100ms/step - loss: 549.2288\n",
            "Epoch 8/10\n",
            "250/250 [==============================] - 25s 101ms/step - loss: 544.7923\n",
            "Epoch 9/10\n",
            "250/250 [==============================] - 25s 101ms/step - loss: 541.1201\n",
            "Epoch 10/10\n",
            "250/250 [==============================] - 25s 101ms/step - loss: 538.0242\n"
          ],
          "name": "stdout"
        }
      ]
    },
    {
      "cell_type": "code",
      "metadata": {
        "colab": {
          "base_uri": "https://localhost:8080/",
          "height": 282
        },
        "id": "3N21BbRT1y70",
        "outputId": "81a65418-4a4d-4a5b-9886-eecb9c46f6ed"
      },
      "source": [
        "fig, ax = plt.subplots()\n",
        "ax.plot(hist_bg.history['loss'])"
      ],
      "execution_count": 731,
      "outputs": [
        {
          "output_type": "execute_result",
          "data": {
            "text/plain": [
              "[<matplotlib.lines.Line2D at 0x7f7839c5b210>]"
            ]
          },
          "metadata": {
            "tags": []
          },
          "execution_count": 731
        },
        {
          "output_type": "display_data",
          "data": {
            "image/png": "[encoded data removed]",
            "text/plain": [
              "<Figure size 432x288 with 1 Axes>"
            ]
          },
          "metadata": {
            "tags": [],
            "needs_background": "light"
          }
        }
      ]
    },
    {
      "cell_type": "code",
      "metadata": {
        "colab": {
          "base_uri": "https://localhost:8080/"
        },
        "id": "bppnh3TQ1y71",
        "outputId": "2f599bde-9d52-467b-df0f-b82b5909e302"
      },
      "source": [
        "print(tf.__version__)"
      ],
      "execution_count": 732,
      "outputs": [
        {
          "output_type": "stream",
          "text": [
            "2.4.1\n"
          ],
          "name": "stdout"
        }
      ]
    },
    {
      "cell_type": "code",
      "metadata": {
        "id": "ADCTVTGc1y71"
      },
      "source": [
        "_, sample_x, _, overlap_x, w = bg.sample(nsample=1000)"
      ],
      "execution_count": 733,
      "outputs": []
    },
    {
      "cell_type": "code",
      "metadata": {
        "colab": {
          "base_uri": "https://localhost:8080/",
          "height": 320
        },
        "id": "PWMGdAIe1y71",
        "outputId": "7b9e602d-0666-4ce9-d05b-5595c230ae78"
      },
      "source": [
        "plot_config(model.wrap(bg.Tzx.predict(np.zeros_like(sample_x[0:1]))).reshape(-1,2),L=L)"
      ],
      "execution_count": 734,
      "outputs": [
        {
          "output_type": "display_data",
          "data": {
            "image/png": "[encoded data removed]",
            "text/plain": [
              "<Figure size 360x360 with 1 Axes>"
            ]
          },
          "metadata": {
            "tags": [],
            "needs_background": "light"
          }
        }
      ]
    },
    {
      "cell_type": "code",
      "metadata": {
        "colab": {
          "base_uri": "https://localhost:8080/"
        },
        "id": "V0Vr5Z93MY3I",
        "outputId": "987c4a15-1d6a-413c-a5dc-cb5808ae49f7"
      },
      "source": [
        "L"
      ],
      "execution_count": 735,
      "outputs": [
        {
          "output_type": "execute_result",
          "data": {
            "text/plain": [
              "9.15291232863769"
            ]
          },
          "metadata": {
            "tags": []
          },
          "execution_count": 735
        }
      ]
    },
    {
      "cell_type": "code",
      "metadata": {
        "colab": {
          "base_uri": "https://localhost:8080/"
        },
        "id": "ASEiygMd1y72",
        "outputId": "44077c8b-b082-4f6f-f78c-6e10d2f4def6"
      },
      "source": [
        "sample_x.min(), sample_x.max()"
      ],
      "execution_count": 736,
      "outputs": [
        {
          "output_type": "execute_result",
          "data": {
            "text/plain": [
              "(-4.566122, 4.561091)"
            ]
          },
          "metadata": {
            "tags": []
          },
          "execution_count": 736
        }
      ]
    },
    {
      "cell_type": "code",
      "metadata": {
        "colab": {
          "base_uri": "https://localhost:8080/",
          "height": 320
        },
        "id": "_KZy36Ev1y72",
        "outputId": "5219ff71-0c4f-4e29-f8a3-51887d4b4242"
      },
      "source": [
        "plot_config(model.wrap(sample_x)[0:1].reshape(-1,2),L=L)"
      ],
      "execution_count": 737,
      "outputs": [
        {
          "output_type": "display_data",
          "data": {
            "image/png": "[encoded data removed]",
            "text/plain": [
              "<Figure size 360x360 with 1 Axes>"
            ]
          },
          "metadata": {
            "tags": [],
            "needs_background": "light"
          }
        }
      ]
    },
    {
      "cell_type": "code",
      "metadata": {
        "colab": {
          "base_uri": "https://localhost:8080/",
          "height": 316
        },
        "id": "txq55E671y72",
        "outputId": "fe3d2c8e-f432-4fbe-8a8b-5b2940a61f49"
      },
      "source": [
        "fig, ax = plt.subplots()\n",
        "ax.hist(model.overlap(sample_x))"
      ],
      "execution_count": 738,
      "outputs": [
        {
          "output_type": "execute_result",
          "data": {
            "text/plain": [
              "(array([ 57.,   0.,   0.,   0.,   0.,   0.,   0.,   0.,   0., 943.]),\n",
              " array([0. , 0.1, 0.2, 0.3, 0.4, 0.5, 0.6, 0.7, 0.8, 0.9, 1. ]),\n",
              " <a list of 10 Patch objects>)"
            ]
          },
          "metadata": {
            "tags": []
          },
          "execution_count": 738
        },
        {
          "output_type": "display_data",
          "data": {
            "image/png": "[encoded data removed]",
            "text/plain": [
              "<Figure size 432x288 with 1 Axes>"
            ]
          },
          "metadata": {
            "tags": [],
            "needs_background": "light"
          }
        }
      ]
    },
    {
      "cell_type": "code",
      "metadata": {
        "colab": {
          "base_uri": "https://localhost:8080/"
        },
        "id": "SYIHW3KIjkxE",
        "outputId": "c1976387-7612-4a18-a635-729491ed2554"
      },
      "source": [
        "tf.keras.backend.eval(tf.reduce_mean(w))"
      ],
      "execution_count": 739,
      "outputs": [
        {
          "output_type": "execute_result",
          "data": {
            "text/plain": [
              "0.0"
            ]
          },
          "metadata": {
            "tags": []
          },
          "execution_count": 739
        }
      ]
    },
    {
      "cell_type": "code",
      "metadata": {
        "colab": {
          "base_uri": "https://localhost:8080/",
          "height": 700
        },
        "id": "Ujk8S87L1y73",
        "outputId": "15a4f7a3-27a4-469e-edc2-4612ca4c82ca"
      },
      "source": [
        "fig, ax = plt.subplots()\n",
        "ax.hist(tf.keras.backend.eval(model.smooth_overlap_tf(sample_x)*w/tf.reduce_mean(w)),bins=20)\n",
        "ax.set_yscale('log')"
      ],
      "execution_count": 740,
      "outputs": [
        {
          "output_type": "stream",
          "text": [
            "/usr/local/lib/python3.7/dist-packages/matplotlib/axes/_axes.py:6630: RuntimeWarning: All-NaN slice encountered\n",
            "  xmin = min(xmin, np.nanmin(xi))\n",
            "/usr/local/lib/python3.7/dist-packages/matplotlib/axes/_axes.py:6631: RuntimeWarning: All-NaN slice encountered\n",
            "  xmax = max(xmax, np.nanmax(xi))\n"
          ],
          "name": "stderr"
        },
        {
          "output_type": "error",
          "ename": "ValueError",
          "evalue": "ignored",
          "traceback": [
            "\u001b[0;31m---------------------------------------------------------------------------\u001b[0m",
            "\u001b[0;31mValueError\u001b[0m                                Traceback (most recent call last)",
            "\u001b[0;32m<ipython-input-740-0b32acc2eee2>\u001b[0m in \u001b[0;36m<module>\u001b[0;34m()\u001b[0m\n\u001b[1;32m      1\u001b[0m \u001b[0mfig\u001b[0m\u001b[0;34m,\u001b[0m \u001b[0max\u001b[0m \u001b[0;34m=\u001b[0m \u001b[0mplt\u001b[0m\u001b[0;34m.\u001b[0m\u001b[0msubplots\u001b[0m\u001b[0;34m(\u001b[0m\u001b[0;34m)\u001b[0m\u001b[0;34m\u001b[0m\u001b[0;34m\u001b[0m\u001b[0m\n\u001b[0;32m----> 2\u001b[0;31m \u001b[0max\u001b[0m\u001b[0;34m.\u001b[0m\u001b[0mhist\u001b[0m\u001b[0;34m(\u001b[0m\u001b[0mtf\u001b[0m\u001b[0;34m.\u001b[0m\u001b[0mkeras\u001b[0m\u001b[0;34m.\u001b[0m\u001b[0mbackend\u001b[0m\u001b[0;34m.\u001b[0m\u001b[0meval\u001b[0m\u001b[0;34m(\u001b[0m\u001b[0mmodel\u001b[0m\u001b[0;34m.\u001b[0m\u001b[0msmooth_overlap_tf\u001b[0m\u001b[0;34m(\u001b[0m\u001b[0msample_x\u001b[0m\u001b[0;34m)\u001b[0m\u001b[0;34m*\u001b[0m\u001b[0mw\u001b[0m\u001b[0;34m/\u001b[0m\u001b[0mtf\u001b[0m\u001b[0;34m.\u001b[0m\u001b[0mreduce_mean\u001b[0m\u001b[0;34m(\u001b[0m\u001b[0mw\u001b[0m\u001b[0;34m)\u001b[0m\u001b[0;34m)\u001b[0m\u001b[0;34m,\u001b[0m\u001b[0mbins\u001b[0m\u001b[0;34m=\u001b[0m\u001b[0;36m20\u001b[0m\u001b[0;34m)\u001b[0m\u001b[0;34m\u001b[0m\u001b[0;34m\u001b[0m\u001b[0m\n\u001b[0m\u001b[1;32m      3\u001b[0m \u001b[0max\u001b[0m\u001b[0;34m.\u001b[0m\u001b[0mset_yscale\u001b[0m\u001b[0;34m(\u001b[0m\u001b[0;34m'log'\u001b[0m\u001b[0;34m)\u001b[0m\u001b[0;34m\u001b[0m\u001b[0;34m\u001b[0m\u001b[0m\n",
            "\u001b[0;32m/usr/local/lib/python3.7/dist-packages/matplotlib/__init__.py\u001b[0m in \u001b[0;36minner\u001b[0;34m(ax, data, *args, **kwargs)\u001b[0m\n\u001b[1;32m   1563\u001b[0m     \u001b[0;32mdef\u001b[0m \u001b[0minner\u001b[0m\u001b[0;34m(\u001b[0m\u001b[0max\u001b[0m\u001b[0;34m,\u001b[0m \u001b[0;34m*\u001b[0m\u001b[0margs\u001b[0m\u001b[0;34m,\u001b[0m \u001b[0mdata\u001b[0m\u001b[0;34m=\u001b[0m\u001b[0;32mNone\u001b[0m\u001b[0;34m,\u001b[0m \u001b[0;34m**\u001b[0m\u001b[0mkwargs\u001b[0m\u001b[0;34m)\u001b[0m\u001b[0;34m:\u001b[0m\u001b[0;34m\u001b[0m\u001b[0;34m\u001b[0m\u001b[0m\n\u001b[1;32m   1564\u001b[0m         \u001b[0;32mif\u001b[0m \u001b[0mdata\u001b[0m \u001b[0;32mis\u001b[0m \u001b[0;32mNone\u001b[0m\u001b[0;34m:\u001b[0m\u001b[0;34m\u001b[0m\u001b[0;34m\u001b[0m\u001b[0m\n\u001b[0;32m-> 1565\u001b[0;31m             \u001b[0;32mreturn\u001b[0m \u001b[0mfunc\u001b[0m\u001b[0;34m(\u001b[0m\u001b[0max\u001b[0m\u001b[0;34m,\u001b[0m \u001b[0;34m*\u001b[0m\u001b[0mmap\u001b[0m\u001b[0;34m(\u001b[0m\u001b[0msanitize_sequence\u001b[0m\u001b[0;34m,\u001b[0m \u001b[0margs\u001b[0m\u001b[0;34m)\u001b[0m\u001b[0;34m,\u001b[0m \u001b[0;34m**\u001b[0m\u001b[0mkwargs\u001b[0m\u001b[0;34m)\u001b[0m\u001b[0;34m\u001b[0m\u001b[0;34m\u001b[0m\u001b[0m\n\u001b[0m\u001b[1;32m   1566\u001b[0m \u001b[0;34m\u001b[0m\u001b[0m\n\u001b[1;32m   1567\u001b[0m         \u001b[0mbound\u001b[0m \u001b[0;34m=\u001b[0m \u001b[0mnew_sig\u001b[0m\u001b[0;34m.\u001b[0m\u001b[0mbind\u001b[0m\u001b[0;34m(\u001b[0m\u001b[0max\u001b[0m\u001b[0;34m,\u001b[0m \u001b[0;34m*\u001b[0m\u001b[0margs\u001b[0m\u001b[0;34m,\u001b[0m \u001b[0;34m**\u001b[0m\u001b[0mkwargs\u001b[0m\u001b[0;34m)\u001b[0m\u001b[0;34m\u001b[0m\u001b[0;34m\u001b[0m\u001b[0m\n",
            "\u001b[0;32m/usr/local/lib/python3.7/dist-packages/matplotlib/axes/_axes.py\u001b[0m in \u001b[0;36mhist\u001b[0;34m(self, x, bins, range, density, weights, cumulative, bottom, histtype, align, orientation, rwidth, log, color, label, stacked, **kwargs)\u001b[0m\n\u001b[1;32m   6658\u001b[0m             \u001b[0;31m# this will automatically overwrite bins,\u001b[0m\u001b[0;34m\u001b[0m\u001b[0;34m\u001b[0m\u001b[0;34m\u001b[0m\u001b[0m\n\u001b[1;32m   6659\u001b[0m             \u001b[0;31m# so that each histogram uses the same bins\u001b[0m\u001b[0;34m\u001b[0m\u001b[0;34m\u001b[0m\u001b[0;34m\u001b[0m\u001b[0m\n\u001b[0;32m-> 6660\u001b[0;31m             \u001b[0mm\u001b[0m\u001b[0;34m,\u001b[0m \u001b[0mbins\u001b[0m \u001b[0;34m=\u001b[0m \u001b[0mnp\u001b[0m\u001b[0;34m.\u001b[0m\u001b[0mhistogram\u001b[0m\u001b[0;34m(\u001b[0m\u001b[0mx\u001b[0m\u001b[0;34m[\u001b[0m\u001b[0mi\u001b[0m\u001b[0;34m]\u001b[0m\u001b[0;34m,\u001b[0m \u001b[0mbins\u001b[0m\u001b[0;34m,\u001b[0m \u001b[0mweights\u001b[0m\u001b[0;34m=\u001b[0m\u001b[0mw\u001b[0m\u001b[0;34m[\u001b[0m\u001b[0mi\u001b[0m\u001b[0;34m]\u001b[0m\u001b[0;34m,\u001b[0m \u001b[0;34m**\u001b[0m\u001b[0mhist_kwargs\u001b[0m\u001b[0;34m)\u001b[0m\u001b[0;34m\u001b[0m\u001b[0;34m\u001b[0m\u001b[0m\n\u001b[0m\u001b[1;32m   6661\u001b[0m             \u001b[0mtops\u001b[0m\u001b[0;34m.\u001b[0m\u001b[0mappend\u001b[0m\u001b[0;34m(\u001b[0m\u001b[0mm\u001b[0m\u001b[0;34m)\u001b[0m\u001b[0;34m\u001b[0m\u001b[0;34m\u001b[0m\u001b[0m\n\u001b[1;32m   6662\u001b[0m         \u001b[0mtops\u001b[0m \u001b[0;34m=\u001b[0m \u001b[0mnp\u001b[0m\u001b[0;34m.\u001b[0m\u001b[0marray\u001b[0m\u001b[0;34m(\u001b[0m\u001b[0mtops\u001b[0m\u001b[0;34m,\u001b[0m \u001b[0mfloat\u001b[0m\u001b[0;34m)\u001b[0m  \u001b[0;31m# causes problems later if it's an int\u001b[0m\u001b[0;34m\u001b[0m\u001b[0;34m\u001b[0m\u001b[0m\n",
            "\u001b[0;32m<__array_function__ internals>\u001b[0m in \u001b[0;36mhistogram\u001b[0;34m(*args, **kwargs)\u001b[0m\n",
            "\u001b[0;32m/usr/local/lib/python3.7/dist-packages/numpy/lib/histograms.py\u001b[0m in \u001b[0;36mhistogram\u001b[0;34m(a, bins, range, normed, weights, density)\u001b[0m\n\u001b[1;32m    790\u001b[0m     \u001b[0ma\u001b[0m\u001b[0;34m,\u001b[0m \u001b[0mweights\u001b[0m \u001b[0;34m=\u001b[0m \u001b[0m_ravel_and_check_weights\u001b[0m\u001b[0;34m(\u001b[0m\u001b[0ma\u001b[0m\u001b[0;34m,\u001b[0m \u001b[0mweights\u001b[0m\u001b[0;34m)\u001b[0m\u001b[0;34m\u001b[0m\u001b[0;34m\u001b[0m\u001b[0m\n\u001b[1;32m    791\u001b[0m \u001b[0;34m\u001b[0m\u001b[0m\n\u001b[0;32m--> 792\u001b[0;31m     \u001b[0mbin_edges\u001b[0m\u001b[0;34m,\u001b[0m \u001b[0muniform_bins\u001b[0m \u001b[0;34m=\u001b[0m \u001b[0m_get_bin_edges\u001b[0m\u001b[0;34m(\u001b[0m\u001b[0ma\u001b[0m\u001b[0;34m,\u001b[0m \u001b[0mbins\u001b[0m\u001b[0;34m,\u001b[0m \u001b[0mrange\u001b[0m\u001b[0;34m,\u001b[0m \u001b[0mweights\u001b[0m\u001b[0;34m)\u001b[0m\u001b[0;34m\u001b[0m\u001b[0;34m\u001b[0m\u001b[0m\n\u001b[0m\u001b[1;32m    793\u001b[0m \u001b[0;34m\u001b[0m\u001b[0m\n\u001b[1;32m    794\u001b[0m     \u001b[0;31m# Histogram is an integer or a float array depending on the weights.\u001b[0m\u001b[0;34m\u001b[0m\u001b[0;34m\u001b[0m\u001b[0;34m\u001b[0m\u001b[0m\n",
            "\u001b[0;32m/usr/local/lib/python3.7/dist-packages/numpy/lib/histograms.py\u001b[0m in \u001b[0;36m_get_bin_edges\u001b[0;34m(a, bins, range, weights)\u001b[0m\n\u001b[1;32m    424\u001b[0m             \u001b[0;32mraise\u001b[0m \u001b[0mValueError\u001b[0m\u001b[0;34m(\u001b[0m\u001b[0;34m'`bins` must be positive, when an integer'\u001b[0m\u001b[0;34m)\u001b[0m\u001b[0;34m\u001b[0m\u001b[0;34m\u001b[0m\u001b[0m\n\u001b[1;32m    425\u001b[0m \u001b[0;34m\u001b[0m\u001b[0m\n\u001b[0;32m--> 426\u001b[0;31m         \u001b[0mfirst_edge\u001b[0m\u001b[0;34m,\u001b[0m \u001b[0mlast_edge\u001b[0m \u001b[0;34m=\u001b[0m \u001b[0m_get_outer_edges\u001b[0m\u001b[0;34m(\u001b[0m\u001b[0ma\u001b[0m\u001b[0;34m,\u001b[0m \u001b[0mrange\u001b[0m\u001b[0;34m)\u001b[0m\u001b[0;34m\u001b[0m\u001b[0;34m\u001b[0m\u001b[0m\n\u001b[0m\u001b[1;32m    427\u001b[0m \u001b[0;34m\u001b[0m\u001b[0m\n\u001b[1;32m    428\u001b[0m     \u001b[0;32melif\u001b[0m \u001b[0mnp\u001b[0m\u001b[0;34m.\u001b[0m\u001b[0mndim\u001b[0m\u001b[0;34m(\u001b[0m\u001b[0mbins\u001b[0m\u001b[0;34m)\u001b[0m \u001b[0;34m==\u001b[0m \u001b[0;36m1\u001b[0m\u001b[0;34m:\u001b[0m\u001b[0;34m\u001b[0m\u001b[0;34m\u001b[0m\u001b[0m\n",
            "\u001b[0;32m/usr/local/lib/python3.7/dist-packages/numpy/lib/histograms.py\u001b[0m in \u001b[0;36m_get_outer_edges\u001b[0;34m(a, range)\u001b[0m\n\u001b[1;32m    322\u001b[0m         \u001b[0;32mif\u001b[0m \u001b[0;32mnot\u001b[0m \u001b[0;34m(\u001b[0m\u001b[0mnp\u001b[0m\u001b[0;34m.\u001b[0m\u001b[0misfinite\u001b[0m\u001b[0;34m(\u001b[0m\u001b[0mfirst_edge\u001b[0m\u001b[0;34m)\u001b[0m \u001b[0;32mand\u001b[0m \u001b[0mnp\u001b[0m\u001b[0;34m.\u001b[0m\u001b[0misfinite\u001b[0m\u001b[0;34m(\u001b[0m\u001b[0mlast_edge\u001b[0m\u001b[0;34m)\u001b[0m\u001b[0;34m)\u001b[0m\u001b[0;34m:\u001b[0m\u001b[0;34m\u001b[0m\u001b[0;34m\u001b[0m\u001b[0m\n\u001b[1;32m    323\u001b[0m             raise ValueError(\n\u001b[0;32m--> 324\u001b[0;31m                 \"autodetected range of [{}, {}] is not finite\".format(first_edge, last_edge))\n\u001b[0m\u001b[1;32m    325\u001b[0m \u001b[0;34m\u001b[0m\u001b[0m\n\u001b[1;32m    326\u001b[0m     \u001b[0;31m# expand empty range to avoid divide by zero\u001b[0m\u001b[0;34m\u001b[0m\u001b[0;34m\u001b[0m\u001b[0;34m\u001b[0m\u001b[0m\n",
            "\u001b[0;31mValueError\u001b[0m: autodetected range of [nan, nan] is not finite"
          ]
        },
        {
          "output_type": "display_data",
          "data": {
            "image/png": "[encoded data removed]",
            "text/plain": [
              "<Figure size 432x288 with 1 Axes>"
            ]
          },
          "metadata": {
            "tags": [],
            "needs_background": "light"
          }
        }
      ]
    },
    {
      "cell_type": "code",
      "metadata": {
        "colab": {
          "base_uri": "https://localhost:8080/",
          "height": 435
        },
        "id": "m_iEmJ8p1y73",
        "outputId": "f6a845cd-7a9b-451e-ff35-bb0402b7fc83"
      },
      "source": [
        "fig, ax = plt.subplots()\n",
        "ax.hist(tf.keras.backend.eval(model.smooth_overlap_tf(Xtrain[0:1000])),bins=20)"
      ],
      "execution_count": 144,
      "outputs": [
        {
          "output_type": "error",
          "ename": "NameError",
          "evalue": "ignored",
          "traceback": [
            "\u001b[0;31m---------------------------------------------------------------------------\u001b[0m",
            "\u001b[0;31mNameError\u001b[0m                                 Traceback (most recent call last)",
            "\u001b[0;32m<ipython-input-144-4f1ae695cc6a>\u001b[0m in \u001b[0;36m<module>\u001b[0;34m()\u001b[0m\n\u001b[1;32m      1\u001b[0m \u001b[0mfig\u001b[0m\u001b[0;34m,\u001b[0m \u001b[0max\u001b[0m \u001b[0;34m=\u001b[0m \u001b[0mplt\u001b[0m\u001b[0;34m.\u001b[0m\u001b[0msubplots\u001b[0m\u001b[0;34m(\u001b[0m\u001b[0;34m)\u001b[0m\u001b[0;34m\u001b[0m\u001b[0;34m\u001b[0m\u001b[0m\n\u001b[0;32m----> 2\u001b[0;31m \u001b[0max\u001b[0m\u001b[0;34m.\u001b[0m\u001b[0mhist\u001b[0m\u001b[0;34m(\u001b[0m\u001b[0mtf\u001b[0m\u001b[0;34m.\u001b[0m\u001b[0mkeras\u001b[0m\u001b[0;34m.\u001b[0m\u001b[0mbackend\u001b[0m\u001b[0;34m.\u001b[0m\u001b[0meval\u001b[0m\u001b[0;34m(\u001b[0m\u001b[0mmodel\u001b[0m\u001b[0;34m.\u001b[0m\u001b[0msmooth_overlap_tf\u001b[0m\u001b[0;34m(\u001b[0m\u001b[0mXtrain\u001b[0m\u001b[0;34m[\u001b[0m\u001b[0;36m0\u001b[0m\u001b[0;34m:\u001b[0m\u001b[0;36m1000\u001b[0m\u001b[0;34m]\u001b[0m\u001b[0;34m)\u001b[0m\u001b[0;34m)\u001b[0m\u001b[0;34m,\u001b[0m\u001b[0mbins\u001b[0m\u001b[0;34m=\u001b[0m\u001b[0;36m20\u001b[0m\u001b[0;34m)\u001b[0m\u001b[0;34m\u001b[0m\u001b[0;34m\u001b[0m\u001b[0m\n\u001b[0m",
            "\u001b[0;31mNameError\u001b[0m: name 'Xtrain' is not defined"
          ]
        },
        {
          "output_type": "display_data",
          "data": {
            "image/png": "[encoded data removed]",
            "text/plain": [
              "<Figure size 432x288 with 1 Axes>"
            ]
          },
          "metadata": {
            "tags": [],
            "needs_background": "light"
          }
        }
      ]
    },
    {
      "cell_type": "code",
      "metadata": {
        "id": "1t5MTuAp1y73"
      },
      "source": [
        ""
      ],
      "execution_count": null,
      "outputs": []
    },
    {
      "cell_type": "code",
      "metadata": {
        "id": "Cl-ZZ6kx1y74"
      },
      "source": [
        ""
      ],
      "execution_count": null,
      "outputs": []
    },
    {
      "cell_type": "code",
      "metadata": {
        "id": "ujb2tA3T1y74"
      },
      "source": [
        ""
      ],
      "execution_count": null,
      "outputs": []
    }
  ]
}