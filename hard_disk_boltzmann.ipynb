{
  "nbformat": 4,
  "nbformat_minor": 0,
  "metadata": {
    "kernelspec": {
      "display_name": "Python 3",
      "language": "python",
      "name": "python3"
    },
    "language_info": {
      "codemirror_mode": {
        "name": "ipython",
        "version": 3
      },
      "file_extension": ".py",
      "mimetype": "text/x-python",
      "name": "python",
      "nbconvert_exporter": "python",
      "pygments_lexer": "ipython3",
      "version": "3.7.7"
    },
    "colab": {
      "name": "hard_disk_boltzmann.ipynb",
      "provenance": [],
      "collapsed_sections": [],
      "include_colab_link": true
    },
    "accelerator": "GPU"
  },
  "cells": [
    {
      "cell_type": "markdown",
      "metadata": {
        "id": "view-in-github",
        "colab_type": "text"
      },
      "source": [
        "<a href=\"https://colab.research.google.com/github/jglaser/hoomd_boltzmann/blob/master/hard_disk_boltzmann.ipynb\" target=\"_parent\"><img src=\"https://colab.research.google.com/assets/colab-badge.svg\" alt=\"Open In Colab\"/></a>"
      ]
    },
    {
      "cell_type": "code",
      "metadata": {
        "colab": {
          "base_uri": "https://localhost:8080/"
        },
        "id": "Nu_oI2Zg1zmY",
        "outputId": "037df19b-4b59-4d6d-c1c5-f1894950c277"
      },
      "source": [
        "! pip install git+https://github.com/jglaser/paper_boltzmann_generators.git@tf2#subdirectory=software"
      ],
      "execution_count": 1,
      "outputs": [
        {
          "output_type": "stream",
          "text": [
            "Collecting git+https://github.com/jglaser/paper_boltzmann_generators.git@tf2#subdirectory=software\n",
            "  Cloning https://github.com/jglaser/paper_boltzmann_generators.git (to revision tf2) to /tmp/pip-req-build-voilan_c\n",
            "  Running command git clone -q https://github.com/jglaser/paper_boltzmann_generators.git /tmp/pip-req-build-voilan_c\n",
            "  Running command git checkout -b tf2 --track origin/tf2\n",
            "  Switched to a new branch 'tf2'\n",
            "  Branch 'tf2' set up to track remote branch 'tf2' from 'origin'.\n",
            "Requirement already satisfied (use --upgrade to upgrade): deep-boltzmann==0.1 from git+https://github.com/jglaser/paper_boltzmann_generators.git@tf2#subdirectory=software in /usr/local/lib/python3.7/dist-packages\n",
            "Building wheels for collected packages: deep-boltzmann\n",
            "  Building wheel for deep-boltzmann (setup.py) ... \u001b[?25l\u001b[?25hdone\n",
            "  Created wheel for deep-boltzmann: filename=deep_boltzmann-0.1-cp37-none-any.whl size=40082 sha256=13ae33123c1f841e0a89a7172841e75179a359838c5ba5b5d7f106e3afbdc94c\n",
            "  Stored in directory: /tmp/pip-ephem-wheel-cache-3yf_002h/wheels/42/9f/f7/e2dcd8deb7caf454aae09d183c79d4112768020758493c87de\n",
            "Successfully built deep-boltzmann\n"
          ],
          "name": "stdout"
        }
      ]
    },
    {
      "cell_type": "code",
      "metadata": {
        "id": "xQKMIdR12Req"
      },
      "source": [
        "import deep_boltzmann"
      ],
      "execution_count": 2,
      "outputs": []
    },
    {
      "cell_type": "code",
      "metadata": {
        "id": "nRzlGZc61y7j"
      },
      "source": [
        "import matplotlib.pyplot as plt\n",
        "def plot_config(pts,L=1):\n",
        "    fig, ax = plt.subplots()\n",
        "    fig.set_size_inches(5,5)\n",
        "    circles = [plt.Circle(p,.5) for p in pts]\n",
        "    for c in circles:\n",
        "        ax.add_patch(c)\n",
        "    ax.set_xlim(-L/2,L/2)\n",
        "    ax.set_ylim(-L/2,L/2)"
      ],
      "execution_count": 3,
      "outputs": []
    },
    {
      "cell_type": "markdown",
      "metadata": {
        "id": "kbVGrOnD1y7k"
      },
      "source": [
        "### Invertible network for hard particles"
      ]
    },
    {
      "cell_type": "code",
      "metadata": {
        "id": "TvGSIy2l1y7k"
      },
      "source": [
        "# Maximum likelihood in z\n",
        "import tensorflow as tf\n",
        "def loss_z(inv_net):\n",
        "    return -inv_net.log_likelihood_z_normal()"
      ],
      "execution_count": 4,
      "outputs": []
    },
    {
      "cell_type": "code",
      "metadata": {
        "id": "_odTAVNm1y7k"
      },
      "source": [
        "import tensorflow as tf\n",
        "def loss_x(inv_net):\n",
        "    x = inv_net.output_x\n",
        "    f = inv_net.overlap_model.smooth_overlap_tf(x)\n",
        "    #return -tf.math.log(f)-inv_net.log_det_Jzx[:,0]\n",
        "    #return f*tf.math.exp(-inv_net.log_det_Jzx[:,0])\n",
        "    return f-inv_net.log_det_Jzx[:,0]#-0.5*tf.reduce_sum(inv_net.input_z**2,axis=-1)\n",
        "    "
      ],
      "execution_count": 5,
      "outputs": []
    },
    {
      "cell_type": "code",
      "metadata": {
        "id": "XlDPpfuF1y7l"
      },
      "source": [
        "import tensorflow.keras as keras\n",
        "import tensorflow as tf\n",
        "from deep_boltzmann.networks.invertible import InvNet\n",
        "\n",
        "class OverlapInvNet(InvNet):\n",
        "\n",
        "    def __init__(self, overlap_model, layers):\n",
        "        \"\"\" Invertible net where we have an overlap function (==0 or 1) that defines p(x)\n",
        "            and the prior is the uniform on the interval [a,b)\"\"\"\n",
        "        self.overlap_model = overlap_model\n",
        "        super().__init__(overlap_model.dim, layers, prior='normal')\n",
        "        \n",
        "        self.Tzx.add_loss(loss_x(self))\n",
        "        self.Txz.add_loss(loss_z(self))\n",
        "        \n",
        "    @classmethod\n",
        "    def load(cls, filename, energy_model):\n",
        "        \"\"\" Loads parameters into model. Careful: this clears the whole TF session!!\n",
        "        \"\"\"\n",
        "        from deep_boltzmann.util import load_obj\n",
        "        keras.backend.clear_session()\n",
        "        D = load_obj(filename)\n",
        "        layerdicts = D['layers']\n",
        "        layers = [eval(d['type']).from_dict(d) for d in layerdicts]\n",
        "        return EnergyInvNet(energy_model, layers, prior=prior)\n",
        "\n",
        "    def weight(self):\n",
        "        \"\"\" Computes the reweighting factor\n",
        "        \"\"\"\n",
        "        z = self.input_z\n",
        "        x = self.output_x\n",
        "        # compute overlap property\n",
        "        f = self.overlap_model.overlap_tf(x)\n",
        "        weight = tf.math.exp(self.log_det_Jzx[:, 0])\n",
        "        return weight\n",
        "\n",
        "    def sample(self, nsample=100000):\n",
        "        \"\"\" Samples from prior distribution in z and produces generated x configurations\n",
        "\n",
        "        Parameters:\n",
        "        -----------\n",
        "        temperature : float\n",
        "            Relative temperature. Equal to the variance of the isotropic Gaussian sampled in z-space.\n",
        "        nsample : int\n",
        "            Number of samples\n",
        "\n",
        "        Returns:\n",
        "        --------\n",
        "        sample_z : array\n",
        "            Samples in z-space\n",
        "        sample_x : array\n",
        "            Samples in x-space\n",
        "        weight_z:\n",
        "            Weight of z samples\n",
        "        overlap_x : array\n",
        "            Overlap property of x samples\n",
        "        w : array\n",
        "            Weight of samples\n",
        "\n",
        "        \"\"\"\n",
        "        sample_z, energy_z = self.sample_z(nsample=nsample, return_energy=True)\n",
        "        sample_x, Jzx = self.transform_zxJ(sample_z)\n",
        "        overlap_x = self.overlap_model.overlap(sample_x)\n",
        "        w = np.exp(Jzx)\n",
        "\n",
        "        return sample_z, sample_x, np.exp(-energy_z), overlap_x, w\n",
        "\n",
        "    \n",
        "    def train_z(self, x, xval=None, optimizer=None, lr=0.001, epochs=2000, batch_size=1024, verbose=1, clipnorm=None):\n",
        "        if optimizer is None:\n",
        "            if clipnorm is None:\n",
        "                optimizer = keras.optimizers.Adam(lr=lr)\n",
        "            else:\n",
        "                optimizer = keras.optimizers.Adam(lr=lr, clipnorm=clipnorm)\n",
        "                \n",
        "        self.Txz.compile(optimizer)\n",
        "\n",
        "        if xval is not None:\n",
        "            validation_data = (xval, np.zeros_like(xval))\n",
        "        else:\n",
        "            validation_data = None\n",
        "\n",
        "        hist = self.Txz.fit(x=x, validation_data=validation_data,\n",
        "                            batch_size=batch_size, epochs=epochs, verbose=verbose, shuffle=True)\n",
        "\n",
        "        return hist\n",
        "    \n",
        "    def train_x(self, optimizer=None, lr=0.001, batches=1,epochs=2000, batch_size=1024, verbose=1, clipnorm=None):\n",
        "        if optimizer is None:\n",
        "            if clipnorm is None:\n",
        "                optimizer = keras.optimizers.Adam(lr=lr)\n",
        "            else:\n",
        "                optimizer = keras.optimizers.Adam(lr=lr, clipnorm=clipnorm)\n",
        "                \n",
        "        self.Tzx.compile(optimizer)\n",
        "\n",
        "        x = self.sample_z(nsample=batches*batch_size, return_energy=False)\n",
        "        hist = self.Tzx.fit(x=x,batch_size=batch_size, epochs=epochs, verbose=verbose, shuffle=True)\n",
        "\n",
        "        return hist\n",
        "\n",
        "    def train_both(self, x, xval=None, optimizer=None, lr=0.001, epochs=2000, batch_size=1024, verbose=1, clipnorm=None):\n",
        "        if optimizer is None:\n",
        "            if clipnorm is None:\n",
        "                optimizer = keras.optimizers.Adam(lr=lr)\n",
        "            else:\n",
        "                optimizer = keras.optimizers.Adam(lr=lr, clipnorm=clipnorm)\n",
        "       \n",
        "        inputs = []\n",
        "        outputs = []\n",
        "        losses = []\n",
        "        losses.append(loss_z(self))\n",
        "        losses.append(loss_x(self))\n",
        "        inputs.append(self.input_x)\n",
        "        inputs.append(self.input_z)\n",
        "        outputs.append(self.output_z)\n",
        "        outputs.append(self.output_x)\n",
        "\n",
        "        self.model = keras.models.Model(inputs=inputs, outputs=outputs)\n",
        "        l = losses[0]+losses[1]\n",
        "        self.model.add_loss(l)\n",
        "        self.model.compile(optimizer=optimizer)\n",
        "        \n",
        "        if xval is not None:\n",
        "            validation_data = (xval, np.zeros_like(xval))\n",
        "        else:\n",
        "            validation_data = None\n",
        "\n",
        "        w = self.sample_z(nsample=x.shape[0], return_energy=False)\n",
        "        hist = self.model.fit(x=[x,w], validation_data=validation_data,\n",
        "                            batch_size=batch_size, epochs=epochs, verbose=verbose, shuffle=True)\n",
        "\n",
        "        return hist"
      ],
      "execution_count": 14,
      "outputs": []
    },
    {
      "cell_type": "code",
      "metadata": {
        "id": "0AW0sLQq1y7o"
      },
      "source": [
        "class Limit(object):\n",
        "    def __init__(self, dim, L=1):\n",
        "        self.L = L\n",
        "        self.dim = dim\n",
        "    \n",
        "        self.tanh = tf.keras.layers.Activation('tanh')\n",
        "        self.scale = tf.keras.layers.experimental.preprocessing.Rescaling(scale=self.L/2)\n",
        "        self.inv_scale = tf.keras.layers.experimental.preprocessing.Rescaling(scale=2/self.L)\n",
        "        self.atanh = tf.keras.layers.Activation(lambda x: tf.atanh(x))\n",
        "        \n",
        "    def connect_xz(self, x):\n",
        "        def lambda_Jxz(x):\n",
        "            J = -tf.math.log(1-(2*x/self.L)**2)\n",
        "            return tf.reduce_sum(J,axis=-1)[0] * tf.ones((tf.shape(x)[0], 1))\n",
        "        self.log_det_xz = keras.layers.Lambda(lambda_Jxz)(x)\n",
        "        z = self.atanh(self.inv_scale(x))\n",
        "        return z\n",
        "\n",
        "    def connect_zx(self, z):\n",
        "        def lambda_Jzx(z):\n",
        "            J = -tf.math.log(tf.cosh(z)**2)\n",
        "            return tf.reduce_sum(J,axis=-1)[0] * tf.ones((tf.shape(z)[0], 1))\n",
        "        self.log_det_zx = keras.layers.Lambda(lambda_Jzx)(z)\n",
        "        x = self.scale(self.tanh(z))\n",
        "        return x\n",
        "\n",
        "    @property\n",
        "    def log_det_Jxz(self):\n",
        "        \"\"\" Log of |det(dz/dx)| for the current batch. Format is batchsize x 1 or a number \"\"\"\n",
        "        return self.log_det_xz\n",
        "\n",
        "    @property\n",
        "    def log_det_Jzx(self):\n",
        "        \"\"\" Log of |det(dx/dz)| for the current batch. Format is batchsize x 1 or a number \"\"\"\n",
        "        return self.log_det_zx\n"
      ],
      "execution_count": 15,
      "outputs": []
    },
    {
      "cell_type": "code",
      "metadata": {
        "id": "cRZyC5p81y7r"
      },
      "source": [
        "from deep_boltzmann.networks.invertible import split_merge_indices, SplitChannels, MergeChannels, \\\n",
        "                                               RealNVP, NICER, InvNet, nonlinear_transform, Scaling\n",
        "\n",
        "def invnet(dim, layer_types, overlap_model=None, channels=None, L=1.0,\n",
        "           nl_layers=2, nl_hidden=100, nl_activation='relu', scale=None, prior='normal'):\n",
        "    \"\"\"\n",
        "    layer_types : str\n",
        "        String describing the sequence of layers. Usage:\n",
        "            N NICER layer\n",
        "            R RealNVP layerl\n",
        "            S Scaling layer\n",
        "        Splitting and merging layers will be added automatically\n",
        "    overlap_model : Overlap model class\n",
        "        Class with overlap_tf() and dim\n",
        "    channels : array or None\n",
        "        Assignment of dimensions to channels (0/1 array of length ndim)\n",
        "    nl_layers : int\n",
        "        Number of hidden layers in the nonlinear transformations\n",
        "    nl_hidden : int\n",
        "        Number of hidden units in each nonlinear layer\n",
        "    nl_activation : str\n",
        "        Activation functions used in the nonlinear layers\n",
        "    scale : None or float\n",
        "        If a scaling layer is used, fix the scale to this number. If None, scaling layers are trainable\n",
        "    \"\"\"\n",
        "    # fix channels\n",
        "    channels, indices_split, indices_merge = split_merge_indices(dim, nchannels=2, channels=channels)\n",
        "\n",
        "    # augment layer types with split and merge layers\n",
        "    split = False\n",
        "    tmp = ''\n",
        "    for ltype in layer_types:\n",
        "        if ltype == 'S' or ltype == 'L' and split:\n",
        "            tmp += '>'\n",
        "            split = False\n",
        "        if (ltype == 'N' or ltype == 'R') and not split:\n",
        "            tmp += '<'\n",
        "            split = True\n",
        "        tmp += ltype\n",
        "    if split:\n",
        "        tmp += '>'\n",
        "    layer_types = tmp\n",
        "    print(layer_types)\n",
        "\n",
        "    # prepare layers\n",
        "    layers = []\n",
        "\n",
        "    #reg = tf.keras.regularizers.l2(.1) #?\n",
        "    reg = None\n",
        "    for ltype in layer_types:\n",
        "        if ltype == '<':\n",
        "            # split into two x channels\n",
        "            layers.append(SplitChannels(dim, nchannels=2, channels=channels))\n",
        "        if ltype == '>':\n",
        "            # merge into one z channel\n",
        "            layers.append(MergeChannels(dim, nchannels=2, channels=channels))\n",
        "        if ltype == 'N':\n",
        "            M1 = nonlinear_transform(indices_split[1].size, nlayers=nl_layers, nhidden=nl_hidden,\n",
        "                                     activation=nl_activation)\n",
        "            M2 = nonlinear_transform(indices_split[0].size, nlayers=nl_layers, nhidden=nl_hidden,\n",
        "                                     activation=nl_activation)\n",
        "            layers.append(NICER([M1, M2]))\n",
        "        elif ltype == 'R':\n",
        "            S1 = nonlinear_transform(indices_split[1].size, nlayers=nl_layers, nhidden=nl_hidden,\n",
        "                                     activation=nl_activation, init_outputs=0,\n",
        "                                     activity_regularizer=reg)\n",
        "            T1 = nonlinear_transform(indices_split[1].size, nlayers=nl_layers, nhidden=nl_hidden,\n",
        "                                     activation=nl_activation,\n",
        "                                     activity_regularizer=reg)\n",
        "            S2 = nonlinear_transform(indices_split[0].size, nlayers=nl_layers, nhidden=nl_hidden,\n",
        "                                     activation=nl_activation, init_outputs=0,\n",
        "                                     activity_regularizer=reg)\n",
        "            T2 = nonlinear_transform(indices_split[0].size, nlayers=nl_layers, nhidden=nl_hidden,\n",
        "                                     activation=nl_activation,\n",
        "                                     activity_regularizer=reg)\n",
        "            layers.append(RealNVP([S1, T1, S2, T2]))\n",
        "        elif ltype == 'L':\n",
        "            layers.append(Limit(dim, L=L))\n",
        "        elif ltype == 'S':\n",
        "            # scaling layer\n",
        "            if scale is None:\n",
        "                scaling_factors = None\n",
        "            else:\n",
        "                scaling_factors = scale * np.ones((1, dim))\n",
        "            layers.append(Scaling(dim, scaling_factors=scaling_factors, trainable=(scale is None)))\n",
        "\n",
        "    if overlap_model is None:\n",
        "        inv_net = InvNet(dim, layers, prior='normal')\n",
        "    else:\n",
        "        inv_net = OverlapInvNet(overlap_model, layers)\n",
        "    \n",
        "    inv_net.reg = reg\n",
        "    return inv_net"
      ],
      "execution_count": 16,
      "outputs": []
    },
    {
      "cell_type": "markdown",
      "metadata": {
        "id": "rbBPrDq01y7u"
      },
      "source": [
        "### Hard disk overlap"
      ]
    },
    {
      "cell_type": "code",
      "metadata": {
        "id": "bb0_stt11y7w"
      },
      "source": [
        "import numpy as np\n",
        "\n",
        "def ensure_traj(X):\n",
        "    if np.ndim(X) == 2:\n",
        "        return X\n",
        "    if np.ndim(X) == 1:\n",
        "        return np.array([X])\n",
        "    raise ValueError('Incompatible array with shape: ', np.shape(X))\n",
        "\n",
        "    \n",
        "def dist2_min_image(crd1, crd2, L, dim=2):\n",
        "    \"\"\" Returns the distance matrix or matrices between particles, with periodic boundary conditions\n",
        "\n",
        "    Parameters\n",
        "    ----------\n",
        "    crd1 : array or matrix\n",
        "        first coordinate set\n",
        "    crd2 : array or matrix\n",
        "        second coordinate set\n",
        "    L: length of simulation box\n",
        "    dim : int\n",
        "        dimension of particle system. If d=2, coordinate vectors are [x1, y1, x2, y2, ...]\n",
        "\n",
        "    \"\"\"\n",
        "    crd1 = ensure_traj(crd1)\n",
        "    crd2 = ensure_traj(crd2)\n",
        "    n = int(np.shape(crd1)[1]/dim)\n",
        "\n",
        "    crd1_components = [np.tile(np.expand_dims(crd1[:, i::dim], 2), (1, 1, n)) for i in range(dim)]\n",
        "    crd2_components = [np.tile(np.expand_dims(crd2[:, i::dim], 2), (1, 1, n)) for i in range(dim)]\n",
        "    \n",
        "    dr_components = np.array([(crd1_components[i] - np.transpose(crd2_components[i], axes=(0, 2, 1))) for i in range(dim)])\n",
        "    \n",
        "    # minimum image\n",
        "    D2_components = dr_components - L*((dr_components+0.5*L)//L)\n",
        "    D2_components = D2_components**2\n",
        "    D2 = np.sum(D2_components, axis=0)\n",
        "    return D2\n",
        "\n",
        "class HardDisks(object):\n",
        "    def __init__(self,N, L,sigma,eps=1):\n",
        "        \"\"\" N: number of particles\n",
        "            L: Box length\n",
        "            sigma: Particle size\"\"\"\n",
        "        self.N = N\n",
        "        self.dim = 2*self.N # dim = 2\n",
        "        self.L = L\n",
        "        self.sigma = sigma\n",
        "        self.mask_matrix = np.ones((self.N, self.N), dtype=np.float32)\n",
        "        for i in range(self.N):\n",
        "            self.mask_matrix[i, i] = 0.0\n",
        "        self.eps=eps\n",
        "\n",
        "    def wrap(self, x):\n",
        "        xcomp = x[:, 0::2]\n",
        "        ycomp = x[:, 1::2]        \n",
        "        xcomp -= ((xcomp+0.5*self.L)//self.L)*self.L\n",
        "        ycomp -= ((ycomp+0.5*self.L)//self.L)*self.L\n",
        "        out = np.zeros(shape=x.shape)\n",
        "        out[:,0::2] = xcomp\n",
        "        out[:,1::2] = ycomp\n",
        "        return out\n",
        "    \n",
        "    def overlap(self, x):\n",
        "        # all pairwise distances\n",
        "        batchsize = np.shape(x)[0]\n",
        "        D2 = dist2_min_image(x, x, self.L)\n",
        "        mmatrix = np.tile(np.expand_dims(self.mask_matrix, 0), (batchsize, 1, 1))\n",
        "        \n",
        "        # overlap\n",
        "        f = np.max(mmatrix*np.where(D2<self.sigma*self.sigma,1.0,0.0), axis=(1, 2))\n",
        "        return f\n",
        "    \n",
        "\n",
        "    @tf.custom_gradient\n",
        "    def tf_min_image(self,Dx):\n",
        "        res = Dx-tf.math.floordiv(Dx+0.5*self.L,self.L)*self.L\n",
        "        return res, lambda upstream: upstream\n",
        "\n",
        "    def overlap_tf(self, x):\n",
        "\n",
        "        xcomp = x[:, 0::2]\n",
        "        ycomp = x[:, 1::2]\n",
        "        batchsize = tf.shape(x)[0]\n",
        "        n = tf.shape(xcomp)[1]\n",
        "        Xcomp = tf.tile(tf.expand_dims(xcomp, 2), [1, 1, n])\n",
        "        Ycomp = tf.tile(tf.expand_dims(ycomp, 2), [1, 1, n])\n",
        "        Dx = Xcomp - tf.transpose(Xcomp, perm=[0, 2, 1])\n",
        "        Dy = Ycomp - tf.transpose(Ycomp, perm=[0, 2, 1])\n",
        "\n",
        "        # minimum image\n",
        "        layer_min_image = tf.keras.layers.Lambda(lambda x: self.tf_min_image(x))\n",
        "        Dx = layer_min_image(Dx) \n",
        "        Dy = layer_min_image(Dy) \n",
        "        D2 = Dx**2 + Dy**2\n",
        "\n",
        "        mmatrix = tf.tile(tf.expand_dims(self.mask_matrix, 0), [batchsize, 1, 1])\n",
        "\n",
        "        return tf.reduce_max(tf.where((D2<self.sigma*self.sigma),\n",
        "                                      mmatrix*tf.ones_like(D2),tf.zeros_like(D2)),\n",
        "                             axis=(1, 2))\n",
        "    \n",
        "    def smooth_overlap_tf(self, x):\n",
        "\n",
        "        xcomp = x[:, 0::2]\n",
        "        ycomp = x[:, 1::2]\n",
        "        batchsize = tf.shape(x)[0]\n",
        "        n = tf.shape(xcomp)[1]\n",
        "        Xcomp = tf.tile(tf.expand_dims(xcomp, 2), [1, 1, n])\n",
        "        Ycomp = tf.tile(tf.expand_dims(ycomp, 2), [1, 1, n])\n",
        "        Dx = Xcomp - tf.transpose(Xcomp, perm=[0, 2, 1])\n",
        "        Dy = Ycomp - tf.transpose(Ycomp, perm=[0, 2, 1])\n",
        "        \n",
        "        layer_min_image = tf.keras.layers.Lambda(lambda x: self.tf_min_image(x))\n",
        "        Dx = layer_min_image(Dx) \n",
        "        Dy = layer_min_image(Dy) \n",
        "        \n",
        "        D2 = Dx**2 + Dy**2\n",
        "\n",
        "        mmatrix = tf.tile(tf.expand_dims(self.mask_matrix, 0), [batchsize, 1, 1])\n",
        "\n",
        "        return tf.reduce_sum(self.eps*tf.nn.relu(mmatrix*(self.sigma-tf.math.sqrt(D2))), axis=(1, 2))\n",
        "        #D6 = D2*D2*D2\n",
        "        #return tf.reduce_sum(self.eps*mmatrix*tf.where(D2<self.sigma*2**(1./3.),\n",
        "        #                                              1+4*(self.sigma**12/(D6*D6)-self.sigma**6/D6),\n",
        "        #                                              0),axis=(1, 2))"
      ],
      "execution_count": 17,
      "outputs": []
    },
    {
      "cell_type": "markdown",
      "metadata": {
        "id": "zSFiOGQw1y7x"
      },
      "source": [
        "### Create the model"
      ]
    },
    {
      "cell_type": "code",
      "metadata": {
        "id": "Ifo5Gh971y7x"
      },
      "source": [
        "phi = 0.8 # packing fraction\n",
        "N = 64\n",
        "sigma = 1\n",
        "L = (N*(np.pi*0.25*sigma**2)/phi)**0.5"
      ],
      "execution_count": 18,
      "outputs": []
    },
    {
      "cell_type": "code",
      "metadata": {
        "id": "i-6Exh8K1y7x"
      },
      "source": [
        "model = HardDisks(N=N,\n",
        "                  L=L,\n",
        "                  sigma=sigma,\n",
        "                  eps=10)"
      ],
      "execution_count": 19,
      "outputs": []
    },
    {
      "cell_type": "code",
      "metadata": {
        "id": "JwyQkzvc1y7z"
      },
      "source": [
        "batchsize = 4096"
      ],
      "execution_count": 72,
      "outputs": []
    },
    {
      "cell_type": "markdown",
      "metadata": {
        "id": "mjGn8WqO1y7z"
      },
      "source": [
        "### Train with the linear combination of two loss functions"
      ]
    },
    {
      "cell_type": "code",
      "metadata": {
        "id": "R2uMpnBn1y7z"
      },
      "source": [
        "def act(x):\n",
        "    return -tf.keras.layers.ReLU(max_value=5)(x)\n",
        "    #return -tf.math.sigmoid(x)"
      ],
      "execution_count": 93,
      "outputs": []
    },
    {
      "cell_type": "code",
      "metadata": {
        "colab": {
          "base_uri": "https://localhost:8080/"
        },
        "id": "jSvBGa1R1y70",
        "outputId": "733352b8-ddba-4ad7-84bc-2b9f0e0f074e"
      },
      "source": [
        "# reset model\n",
        "#bg = invnet(model.dim, 'RRRRRRRRL', overlap_model=model, nl_layers=4, nl_hidden=200, #100\n",
        "bg = invnet(model.dim, 'RRRRRRRRRRRRRRRRRRRL', overlap_model=model, nl_layers=4, nl_hidden=200, #100\n",
        "#bg = invnet(model.dim, 'NNNNNNNNL', overlap_model=model, nl_layers=4, nl_hidden=200, #100\n",
        "           nl_activation=act, L=L)"
      ],
      "execution_count": 101,
      "outputs": [
        {
          "output_type": "stream",
          "text": [
            "<RRRRRRRRRRRRRRRRRRR>L\n"
          ],
          "name": "stdout"
        }
      ]
    },
    {
      "cell_type": "code",
      "metadata": {
        "id": "y3iowEtO1y70"
      },
      "source": [
        "#hist_bg = bg.train_z(x=Xtrain,epochs=3,lr=0.0001,batch_size=batchsize)"
      ],
      "execution_count": 102,
      "outputs": []
    },
    {
      "cell_type": "code",
      "metadata": {
        "scrolled": true,
        "colab": {
          "base_uri": "https://localhost:8080/"
        },
        "id": "DvxM9aUo1y70",
        "outputId": "68e60f91-ab50-4e1e-e072-9654cb128d4b"
      },
      "source": [
        "hist_bg = bg.train_x(batches=250,epochs=10,lr=0.00001,batch_size=batchsize)"
      ],
      "execution_count": null,
      "outputs": [
        {
          "output_type": "stream",
          "text": [
            "Epoch 1/10\n",
            "250/250 [==============================] - 64s 186ms/step - loss: 690.5348\n",
            "Epoch 2/10\n",
            "250/250 [==============================] - 47s 186ms/step - loss: 404.6259\n",
            "Epoch 3/10\n",
            "250/250 [==============================] - 46s 186ms/step - loss: 323.1684\n",
            "Epoch 4/10\n",
            " 93/250 [==========>...................] - ETA: 29s - loss: 316.6880"
          ],
          "name": "stdout"
        }
      ]
    },
    {
      "cell_type": "code",
      "metadata": {
        "id": "3N21BbRT1y70",
        "outputId": "110683d4-afd9-42c9-89d8-aa6b88815346"
      },
      "source": [
        "fig, ax = plt.subplots()\n",
        "ax.plot(hist_bg.history['loss'])"
      ],
      "execution_count": null,
      "outputs": [
        {
          "output_type": "execute_result",
          "data": {
            "text/plain": [
              "[<matplotlib.lines.Line2D at 0x7fc0934de4d0>]"
            ]
          },
          "metadata": {
            "tags": []
          },
          "execution_count": 818
        },
        {
          "output_type": "display_data",
          "data": {
            "image/png": "[encoded data removed]",
            "text/plain": [
              "<Figure size 432x288 with 1 Axes>"
            ]
          },
          "metadata": {
            "tags": [],
            "needs_background": "light"
          }
        }
      ]
    },
    {
      "cell_type": "code",
      "metadata": {
        "id": "bppnh3TQ1y71",
        "outputId": "fed9d93c-788e-43bb-9f41-bc7d3ea46d04"
      },
      "source": [
        "print(tf.__version__)"
      ],
      "execution_count": null,
      "outputs": [
        {
          "output_type": "stream",
          "text": [
            "2.4.0\n"
          ],
          "name": "stdout"
        }
      ]
    },
    {
      "cell_type": "code",
      "metadata": {
        "id": "ADCTVTGc1y71",
        "outputId": "37344ea5-4464-49b0-aafe-01bdb789d1d0"
      },
      "source": [
        "_, sample_x, _, overlap_x, w = bg.sample(nsample=1000)"
      ],
      "execution_count": null,
      "outputs": [
        {
          "output_type": "stream",
          "text": [
            "/opt/miniconda3/lib/python3.7/site-packages/ipykernel_launcher.py:64: RuntimeWarning: overflow encountered in exp\n"
          ],
          "name": "stderr"
        }
      ]
    },
    {
      "cell_type": "code",
      "metadata": {
        "id": "PWMGdAIe1y71",
        "outputId": "57d90713-f2a1-4078-981c-51cff53563c9"
      },
      "source": [
        "plot_config(model.wrap(bg.Tzx.predict(np.zeros_like(sample_x[0:1]))).reshape(-1,2),L=L)"
      ],
      "execution_count": null,
      "outputs": [
        {
          "output_type": "display_data",
          "data": {
            "image/png": "[encoded data removed]",
            "text/plain": [
              "<Figure size 360x360 with 1 Axes>"
            ]
          },
          "metadata": {
            "tags": [],
            "needs_background": "light"
          }
        }
      ]
    },
    {
      "cell_type": "code",
      "metadata": {
        "id": "ASEiygMd1y72",
        "outputId": "9addfca1-ce41-404b-8d64-94126d9091a6"
      },
      "source": [
        "sample_x.min(),sample_x.max()"
      ],
      "execution_count": null,
      "outputs": [
        {
          "output_type": "execute_result",
          "data": {
            "text/plain": [
              "(-266.51193, 237.6822)"
            ]
          },
          "metadata": {
            "tags": []
          },
          "execution_count": 822
        }
      ]
    },
    {
      "cell_type": "code",
      "metadata": {
        "id": "_KZy36Ev1y72",
        "outputId": "72356375-5df5-4e5c-e1a9-9fa4f9b8432d"
      },
      "source": [
        "plot_config(model.wrap(sample_x)[0:1].reshape(-1,2),L=L)"
      ],
      "execution_count": null,
      "outputs": [
        {
          "output_type": "display_data",
          "data": {
            "image/png": "[encoded data removed]",
            "text/plain": [
              "<Figure size 360x360 with 1 Axes>"
            ]
          },
          "metadata": {
            "tags": [],
            "needs_background": "light"
          }
        }
      ]
    },
    {
      "cell_type": "code",
      "metadata": {
        "id": "txq55E671y72",
        "outputId": "28f72b87-758d-4af6-d8cc-8c0bfc5df4da"
      },
      "source": [
        "fig, ax = plt.subplots()\n",
        "ax.hist(model.overlap(sample_x))"
      ],
      "execution_count": null,
      "outputs": [
        {
          "output_type": "execute_result",
          "data": {
            "text/plain": [
              "(array([   0.,    0.,    0.,    0.,    0., 1000.,    0.,    0.,    0.,\n",
              "           0.]),\n",
              " array([0.5, 0.6, 0.7, 0.8, 0.9, 1. , 1.1, 1.2, 1.3, 1.4, 1.5]),\n",
              " <a list of 10 Patch objects>)"
            ]
          },
          "metadata": {
            "tags": []
          },
          "execution_count": 824
        },
        {
          "output_type": "display_data",
          "data": {
            "image/png": "[encoded data removed]",
            "text/plain": [
              "<Figure size 432x288 with 1 Axes>"
            ]
          },
          "metadata": {
            "tags": [],
            "needs_background": "light"
          }
        }
      ]
    },
    {
      "cell_type": "code",
      "metadata": {
        "id": "Ujk8S87L1y73",
        "outputId": "33bd312a-7246-4675-e1a1-d892b5f4c6f3"
      },
      "source": [
        "fig, ax = plt.subplots()\n",
        "ax.hist(tf.keras.backend.eval(model.smooth_overlap_tf(sample_x)*w/tf.reduce_mean(w)),bins=20)\n",
        "ax.set_yscale('log')"
      ],
      "execution_count": null,
      "outputs": [
        {
          "output_type": "display_data",
          "data": {
            "image/png": "[encoded data removed]",
            "text/plain": [
              "<Figure size 432x288 with 1 Axes>"
            ]
          },
          "metadata": {
            "tags": [],
            "needs_background": "light"
          }
        }
      ]
    },
    {
      "cell_type": "code",
      "metadata": {
        "id": "m_iEmJ8p1y73",
        "outputId": "5a48407f-d77e-45b1-b3c1-1cc40729dd50"
      },
      "source": [
        "fig, ax = plt.subplots()\n",
        "ax.hist(tf.keras.backend.eval(model.smooth_overlap_tf(Xtrain[0:1000])),bins=20)"
      ],
      "execution_count": null,
      "outputs": [
        {
          "output_type": "execute_result",
          "data": {
            "text/plain": [
              "(array([  3.,   1.,   0.,   1.,   4.,   1.,   3.,   2.,   4.,   3.,  21.,\n",
              "         36.,  34.,  58., 157., 280., 243.,  98.,  30.,  21.]),\n",
              " array([ 23.470604,  47.676617,  71.88263 ,  96.088646, 120.29466 ,\n",
              "        144.50067 , 168.70668 , 192.9127  , 217.11871 , 241.32472 ,\n",
              "        265.53073 , 289.73676 , 313.94278 , 338.14877 , 362.3548  ,\n",
              "        386.56082 , 410.7668  , 434.97284 , 459.17886 , 483.38486 ,\n",
              "        507.59088 ], dtype=float32),\n",
              " <a list of 20 Patch objects>)"
            ]
          },
          "metadata": {
            "tags": []
          },
          "execution_count": 826
        },
        {
          "output_type": "display_data",
          "data": {
            "image/png": "[encoded data removed]",
            "text/plain": [
              "<Figure size 432x288 with 1 Axes>"
            ]
          },
          "metadata": {
            "tags": [],
            "needs_background": "light"
          }
        }
      ]
    },
    {
      "cell_type": "code",
      "metadata": {
        "id": "1t5MTuAp1y73"
      },
      "source": [
        ""
      ],
      "execution_count": null,
      "outputs": []
    },
    {
      "cell_type": "code",
      "metadata": {
        "id": "Cl-ZZ6kx1y74"
      },
      "source": [
        ""
      ],
      "execution_count": null,
      "outputs": []
    },
    {
      "cell_type": "code",
      "metadata": {
        "id": "ujb2tA3T1y74"
      },
      "source": [
        ""
      ],
      "execution_count": null,
      "outputs": []
    }
  ]
}